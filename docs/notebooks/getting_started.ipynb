{
  "cells": [
    {
      "cell_type": "code",
      "execution_count": 14,
      "metadata": {
        "tags": [
          "hide_code"
        ]
      },
      "outputs": [
        {
          "data": {
            "text/html": [
              "\n",
              "<div style=\"float: right;\">\n",
              "  <a target=\"_blank\" href=\"https://colab.research.google.com/github/openml/docs/blob/master/docs/integrations/getting_started.ipynb\">\n",
              "    <img src=\"https://colab.research.google.com/assets/colab-badge.svg\" alt=\"Open In Colab\"/>\n",
              "  </a>\n",
              "  <a href=\"https://mybinder.org/v2/gh/openml/docs/HEAD?labpath=Scikit-learn%2Fdatasets_tutorial\">\n",
              "    <img src=\"https://mybinder.org/badge_logo.svg\" alt=\"Binder\"/>\n",
              "  </a>\n",
              "</div>\n"
            ],
            "text/plain": [
              "<IPython.core.display.HTML object>"
            ]
          },
          "metadata": {},
          "output_type": "display_data"
        }
      ],
      "source": [
        "from IPython.display import display, HTML\n",
        "relative_file_path = \"integrations/getting_started.ipynb\"\n",
        "display(HTML(f\"\"\"\n",
        "<div style=\"float: right;\">\n",
        "  <a target=\"_blank\" href=\"https://colab.research.google.com/github/openml/docs/blob/master/docs/{relative_file_path}\">\n",
        "    <img src=\"https://colab.research.google.com/assets/colab-badge.svg\" alt=\"Open In Colab\"/>\n",
        "  </a>\n",
        "  <a href=\"https://mybinder.org/v2/gh/openml/docs/HEAD?labpath=Scikit-learn%2Fdatasets_tutorial\">\n",
        "    <img src=\"https://mybinder.org/badge_logo.svg\" alt=\"Binder\"/>\n",
        "  </a>\n",
        "</div>\n",
        "\"\"\"))"
      ]
    },
    {
      "cell_type": "markdown",
      "metadata": {},
      "source": [
        "# Getting Started\n",
        "\n",
        "This page will guide you through the process of getting started with OpenML. While this page is a good starting point, for more detailed information, please refer to the [integrations section](Scikit-learn/index.md) and the rest of the documentation.\n",
        "\n"
      ]
    },
    {
      "cell_type": "markdown",
      "metadata": {},
      "source": [
        "## Authentication\n",
        "- If you are using the OpenML API to download datasets, upload results, or create tasks, you will need to authenticate. You can do this by creating an account on the OpenML website and using your API key. - You can find detailed instructions on how to authenticate in the [authentication section](apikey.md)"
      ]
    },
    {
      "cell_type": "code",
      "execution_count": 2,
      "metadata": {},
      "outputs": [],
      "source": [
        "!pip install -q openml"
      ]
    },
    {
      "cell_type": "markdown",
      "metadata": {},
      "source": [
        "## EEG Eye State example\n",
        "Download the OpenML task for the eeg-eye-state.\n",
        "\n"
      ]
    },
    {
      "cell_type": "code",
      "execution_count": 3,
      "metadata": {
        "collapsed": false
      },
      "outputs": [],
      "source": [
        "# License: BSD 3-Clause\n",
        "\n",
        "import openml\n",
        "from sklearn import neighbors"
      ]
    },
    {
      "cell_type": "code",
      "execution_count": 4,
      "metadata": {
        "collapsed": false
      },
      "outputs": [
        {
          "name": "stderr",
          "output_type": "stream",
          "text": [
            "/var/folders/0t/5d8ttqzd773fy0wq3h5db0xr0000gn/T/ipykernel_60921/256497051.py:1: UserWarning: Switching to the test server https://test.openml.org/api/v1/xml to not upload results to the live server. Using the test server may result in reduced performance of the API!\n",
            "  openml.config.start_using_configuration_for_example()\n"
          ]
        }
      ],
      "source": [
        "openml.config.start_using_configuration_for_example()"
      ]
    },
    {
      "cell_type": "markdown",
      "metadata": {},
      "source": [
        "When using the main server instead, make sure your apikey is configured.\n",
        "This can be done with the following line of code (uncomment it!).\n",
        "Never share your apikey with others.\n",
        "\n"
      ]
    },
    {
      "cell_type": "code",
      "execution_count": 5,
      "metadata": {
        "collapsed": false
      },
      "outputs": [],
      "source": [
        "# openml.config.apikey = 'YOURKEY'"
      ]
    },
    {
      "cell_type": "markdown",
      "metadata": {},
      "source": [
        "## Caching\n",
        "When downloading datasets, tasks, runs and flows, they will be cached to\n",
        "retrieve them without calling the server later. As with the API key,\n",
        "the cache directory can be either specified through the config file or\n",
        "through the API:\n",
        "\n",
        "* Add the  line **cachedir = 'MYDIR'** to the config file, replacing\n",
        "  'MYDIR' with the path to the cache directory. By default, OpenML\n",
        "  will use **~/.openml/cache** as the cache directory.\n",
        "* Run the code below, replacing 'YOURDIR' with the path to the cache directory.\n",
        "\n"
      ]
    },
    {
      "cell_type": "code",
      "execution_count": 6,
      "metadata": {
        "collapsed": false
      },
      "outputs": [],
      "source": [
        "# Uncomment and set your OpenML cache directory\n",
        "# import os\n",
        "# openml.config.cache_directory = os.path.expanduser('YOURDIR')"
      ]
    },
    {
      "cell_type": "code",
      "execution_count": 7,
      "metadata": {
        "collapsed": false
      },
      "outputs": [
        {
          "name": "stdout",
          "output_type": "stream",
          "text": [
            "kNN on eeg-eye-state: https://test.openml.org/r/32906\n"
          ]
        }
      ],
      "source": [
        "task = openml.tasks.get_task(403)\n",
        "data = openml.datasets.get_dataset(task.dataset_id)\n",
        "clf = neighbors.KNeighborsClassifier(n_neighbors=5)\n",
        "run = openml.runs.run_model_on_task(clf, task, avoid_duplicate_runs=False)\n",
        "# Publish the experiment on OpenML (optional, requires an API key).\n",
        "# For this tutorial, our configuration publishes to the test server\n",
        "# as to not crowd the main server with runs created by examples.\n",
        "myrun = run.publish()\n",
        "print(f\"kNN on {data.name}: {myrun.openml_url}\")"
      ]
    },
    {
      "cell_type": "code",
      "execution_count": 8,
      "metadata": {
        "collapsed": false
      },
      "outputs": [],
      "source": [
        "openml.config.stop_using_configuration_for_example()"
      ]
    }
  ],
  "metadata": {
    "kernelspec": {
      "display_name": "Python 3",
      "language": "python",
      "name": "python3"
    },
    "language_info": {
      "codemirror_mode": {
        "name": "ipython",
        "version": 3
      },
      "file_extension": ".py",
      "mimetype": "text/x-python",
      "name": "python",
      "nbconvert_exporter": "python",
      "pygments_lexer": "ipython3",
      "version": "3.12.4"
    }
  },
  "nbformat": 4,
  "nbformat_minor": 0
}
